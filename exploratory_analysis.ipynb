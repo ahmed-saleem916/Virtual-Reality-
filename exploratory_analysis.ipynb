{
 "cells": [
  {
   "cell_type": "code",
   "execution_count": 1,
   "id": "0377339a",
   "metadata": {},
   "outputs": [],
   "source": [
    "import matplotlib.pyplot as plt\n",
    "import pandas as pd\n",
    "import numpy as np\n",
    "import scipy.stats as st"
   ]
  },
  {
   "cell_type": "code",
   "execution_count": 2,
   "id": "a3fe83ff",
   "metadata": {},
   "outputs": [],
   "source": [
    "file = \"../Resources/Police_Department_Incident_Reports__2018_to_Present.csv\"\n",
    "\n",
    "df = pd.read_csv(file)"
   ]
  },
  {
   "cell_type": "code",
   "execution_count": 3,
   "id": "6cb8151a",
   "metadata": {},
   "outputs": [],
   "source": [
    "dropped_columns = df.drop(columns=[\"Invest In Neighborhoods (IIN) Areas\", \"ESNCAG - Boundary File\", \"Supervisor District 2012\", \n",
    "                             \"Civic Center Harm Reduction Project Boundary\", \"Central Market/Tenderloin Boundary Polygon - Updated\",\n",
    "                           \"CAD Number\", \"HSOC Zones as of 2018-06-05\", \"CNN\", \"Row ID\"])\n",
    "\n",
    "fill_na = dropped_columns.fillna(\"False\")\n",
    "\n",
    "filed_online = dropped_columns.dropna(how='any')\n",
    "\n",
    "police_reports = fill_na.loc[fill_na[\"Filed Online\"] == \"False\"]"
   ]
  },
  {
   "cell_type": "code",
   "execution_count": 6,
   "id": "6a43db13",
   "metadata": {},
   "outputs": [
    {
     "data": {
      "text/plain": [
       "1900"
      ]
     },
     "execution_count": 6,
     "metadata": {},
     "output_type": "execute_result"
    }
   ],
   "source": [
    "# shows the number of days tracked in the data set\n",
    "num_days = police_reports[\"Incident Date\"].nunique()\n",
    "num_days"
   ]
  },
  {
   "cell_type": "code",
   "execution_count": 10,
   "id": "bb12b7f4",
   "metadata": {},
   "outputs": [
    {
     "data": {
      "text/plain": [
       "Larceny Theft                                   104750\n",
       "Other Miscellaneous                              49247\n",
       "Assault                                          42974\n",
       "Non-Criminal                                     42098\n",
       "Burglary                                         36705\n",
       "Motor Vehicle Theft                              36044\n",
       "Malicious Mischief                               34046\n",
       "Recovered Vehicle                                27459\n",
       "Fraud                                            20723\n",
       "Warrant                                          20492\n",
       "Drug Offense                                     17324\n",
       "Robbery                                          15807\n",
       "Missing Person                                   15269\n",
       "Suspicious Occ                                   14472\n",
       "Disorderly Conduct                               11603\n",
       "Offences Against The Family And Children          9780\n",
       "Lost Property                                     7691\n",
       "Miscellaneous Investigation                       7344\n",
       "Traffic Violation Arrest                          6786\n",
       "Other Offenses                                    5947\n",
       "Other                                             5740\n",
       "Weapons Offense                                   4811\n",
       "Weapons Carrying Etc                              4025\n",
       "Stolen Property                                   3527\n",
       "Case Closure                                      2903\n",
       "Forgery And Counterfeiting                        2283\n",
       "Courtesy Report                                   2068\n",
       "Arson                                             2023\n",
       "Traffic Collision                                 1636\n",
       "Vandalism                                         1501\n",
       "Fire Report                                       1029\n",
       "Prostitution                                       925\n",
       "Embezzlement                                       908\n",
       "Civil Sidewalks                                    888\n",
       "Sex Offense                                        738\n",
       "False                                              585\n",
       "Vehicle Impounded                                  461\n",
       "Suicide                                            316\n",
       "Vehicle Misplaced                                  290\n",
       "Drug Violation                                     245\n",
       "Rape                                               171\n",
       "Human Trafficking (A), Commercial Sex Acts         130\n",
       "Homicide                                           106\n",
       "Suspicious                                         101\n",
       "Liquor Laws                                         76\n",
       "Motor Vehicle Theft?                                74\n",
       "Gambling                                            32\n",
       "Weapons Offence                                     21\n",
       "Human Trafficking, Commercial Sex Acts              21\n",
       "Human Trafficking (B), Involuntary Servitude         1\n",
       "Name: Incident Category, dtype: int64"
      ]
     },
     "execution_count": 10,
     "metadata": {},
     "output_type": "execute_result"
    }
   ],
   "source": [
    "crime_count = police_reports[\"Incident Category\"].value_counts()\n",
    "crime_count"
   ]
  },
  {
   "cell_type": "code",
   "execution_count": 13,
   "id": "b3b1b9b1",
   "metadata": {},
   "outputs": [
    {
     "data": {
      "text/html": [
       "<div>\n",
       "<style scoped>\n",
       "    .dataframe tbody tr th:only-of-type {\n",
       "        vertical-align: middle;\n",
       "    }\n",
       "\n",
       "    .dataframe tbody tr th {\n",
       "        vertical-align: top;\n",
       "    }\n",
       "\n",
       "    .dataframe thead th {\n",
       "        text-align: right;\n",
       "    }\n",
       "</style>\n",
       "<table border=\"1\" class=\"dataframe\">\n",
       "  <thead>\n",
       "    <tr style=\"text-align: right;\">\n",
       "      <th></th>\n",
       "      <th>Larceny Theft</th>\n",
       "      <th>Other Miscellaneous</th>\n",
       "      <th>Assault</th>\n",
       "      <th>Non-Criminal</th>\n",
       "      <th>Burglary</th>\n",
       "      <th>Motor Vehicle Theft</th>\n",
       "      <th>Malicious Mischief</th>\n",
       "      <th>Recovered Vehicle</th>\n",
       "      <th>Fraud</th>\n",
       "      <th>Warrant</th>\n",
       "      <th>...</th>\n",
       "      <th>Rape</th>\n",
       "      <th>Human Trafficking (A), Commercial Sex Acts</th>\n",
       "      <th>Homicide</th>\n",
       "      <th>Suspicious</th>\n",
       "      <th>Liquor Laws</th>\n",
       "      <th>Motor Vehicle Theft?</th>\n",
       "      <th>Gambling</th>\n",
       "      <th>Weapons Offence</th>\n",
       "      <th>Human Trafficking, Commercial Sex Acts</th>\n",
       "      <th>Human Trafficking (B), Involuntary Servitude</th>\n",
       "    </tr>\n",
       "  </thead>\n",
       "  <tbody>\n",
       "    <tr>\n",
       "      <th>Incident Category</th>\n",
       "      <td>104750</td>\n",
       "      <td>49247</td>\n",
       "      <td>42974</td>\n",
       "      <td>42098</td>\n",
       "      <td>36705</td>\n",
       "      <td>36044</td>\n",
       "      <td>34046</td>\n",
       "      <td>27459</td>\n",
       "      <td>20723</td>\n",
       "      <td>20492</td>\n",
       "      <td>...</td>\n",
       "      <td>171</td>\n",
       "      <td>130</td>\n",
       "      <td>106</td>\n",
       "      <td>101</td>\n",
       "      <td>76</td>\n",
       "      <td>74</td>\n",
       "      <td>32</td>\n",
       "      <td>21</td>\n",
       "      <td>21</td>\n",
       "      <td>1</td>\n",
       "    </tr>\n",
       "  </tbody>\n",
       "</table>\n",
       "<p>1 rows × 50 columns</p>\n",
       "</div>"
      ],
      "text/plain": [
       "                   Larceny Theft  Other Miscellaneous  Assault  Non-Criminal  \\\n",
       "Incident Category         104750                49247    42974         42098   \n",
       "\n",
       "                   Burglary  Motor Vehicle Theft  Malicious Mischief  \\\n",
       "Incident Category     36705                36044               34046   \n",
       "\n",
       "                   Recovered Vehicle  Fraud  Warrant  ...  Rape  \\\n",
       "Incident Category              27459  20723    20492  ...   171   \n",
       "\n",
       "                   Human Trafficking (A), Commercial Sex Acts  Homicide  \\\n",
       "Incident Category                                         130       106   \n",
       "\n",
       "                   Suspicious  Liquor Laws  Motor Vehicle Theft?  Gambling  \\\n",
       "Incident Category         101           76                    74        32   \n",
       "\n",
       "                   Weapons Offence  Human Trafficking, Commercial Sex Acts  \\\n",
       "Incident Category               21                                      21   \n",
       "\n",
       "                   Human Trafficking (B), Involuntary Servitude  \n",
       "Incident Category                                             1  \n",
       "\n",
       "[1 rows x 50 columns]"
      ]
     },
     "execution_count": 13,
     "metadata": {},
     "output_type": "execute_result"
    }
   ],
   "source": [
    "# may need to use a groupby to turn this into a readable data frame\n",
    "crime_counts = pd.DataFrame([crime_count])\n",
    "crime_counts"
   ]
  },
  {
   "cell_type": "code",
   "execution_count": 14,
   "id": "ff4d8558",
   "metadata": {},
   "outputs": [
    {
     "data": {
      "text/plain": [
       "Initial               430101\n",
       "Initial Supplement     58322\n",
       "Vehicle Initial        45215\n",
       "Vehicle Supplement     30558\n",
       "Name: Report Type Description, dtype: int64"
      ]
     },
     "execution_count": 14,
     "metadata": {},
     "output_type": "execute_result"
    }
   ],
   "source": [
    "# may be useful information for future analysis\n",
    "incident_type = police_reports[\"Report Type Description\"].value_counts()\n",
    "incident_type"
   ]
  },
  {
   "cell_type": "code",
   "execution_count": null,
   "id": "4aff0fc9",
   "metadata": {},
   "outputs": [],
   "source": []
  }
 ],
 "metadata": {
  "kernelspec": {
   "display_name": "PythonData",
   "language": "python",
   "name": "pythondata"
  },
  "language_info": {
   "codemirror_mode": {
    "name": "ipython",
    "version": 3
   },
   "file_extension": ".py",
   "mimetype": "text/x-python",
   "name": "python",
   "nbconvert_exporter": "python",
   "pygments_lexer": "ipython3",
   "version": "3.7.7"
  }
 },
 "nbformat": 4,
 "nbformat_minor": 5
}
