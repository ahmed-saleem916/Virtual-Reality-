{
 "cells": [
  {
   "cell_type": "code",
   "execution_count": 1,
   "id": "d3e93df5",
   "metadata": {},
   "outputs": [],
   "source": [
    "import matplotlib.pyplot as plt\n",
    "import pandas as pd\n",
    "import numpy as np\n",
    "import scipy.stats as st"
   ]
  },
  {
   "cell_type": "code",
   "execution_count": 2,
   "id": "036ac4e6",
   "metadata": {},
   "outputs": [],
   "source": [
    "file = \"../Resources/Police_Department_Incident_Reports__2018_to_Present.csv\"\n",
    "\n",
    "df = pd.read_csv(file)"
   ]
  },
  {
   "cell_type": "code",
   "execution_count": 3,
   "id": "1afe5791",
   "metadata": {},
   "outputs": [],
   "source": [
    "dropped_columns = df.drop(columns=[\"Invest In Neighborhoods (IIN) Areas\", \"ESNCAG - Boundary File\", \"Supervisor District 2012\", \n",
    "                             \"Civic Center Harm Reduction Project Boundary\", \"Central Market/Tenderloin Boundary Polygon - Updated\",\n",
    "                           \"CAD Number\", \"HSOC Zones as of 2018-06-05\", \"CNN\", \"Row ID\"])\n",
    "\n",
    "fill_na = dropped_columns.fillna(\"False\")\n",
    "\n",
    "filed_online = dropped_columns.dropna(how='any')\n",
    "\n",
    "police_reports = fill_na.loc[fill_na[\"Filed Online\"] == \"False\"]"
   ]
  },
  {
   "cell_type": "code",
   "execution_count": 6,
   "id": "d769e534",
   "metadata": {},
   "outputs": [
    {
     "data": {
      "text/plain": [
       "1900"
      ]
     },
     "execution_count": 6,
     "metadata": {},
     "output_type": "execute_result"
    }
   ],
   "source": [
    "# shows the number of days tracked in the data set\n",
    "num_days = police_reports[\"Incident Date\"].nunique()\n",
    "num_days"
   ]
  },
  {
   "cell_type": "code",
   "execution_count": null,
   "id": "fd3e9374",
   "metadata": {},
   "outputs": [],
   "source": []
  }
 ],
 "metadata": {
  "kernelspec": {
   "display_name": "PythonData",
   "language": "python",
   "name": "pythondata"
  },
  "language_info": {
   "codemirror_mode": {
    "name": "ipython",
    "version": 3
   },
   "file_extension": ".py",
   "mimetype": "text/x-python",
   "name": "python",
   "nbconvert_exporter": "python",
   "pygments_lexer": "ipython3",
   "version": "3.7.7"
  }
 },
 "nbformat": 4,
 "nbformat_minor": 5
}
